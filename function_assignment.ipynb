{
  "nbformat": 4,
  "nbformat_minor": 0,
  "metadata": {
    "colab": {
      "provenance": []
    },
    "kernelspec": {
      "name": "python3",
      "display_name": "Python 3"
    },
    "language_info": {
      "name": "python"
    }
  },
  "cells": [
    {
      "cell_type": "markdown",
      "source": [
        "# Q. 1. What is the difference between a function and a method in Python?\n",
        "Ans - Function :\n",
        "A block of organized, reusable code that performs a single, related action. It can be called independently.\n"
      ],
      "metadata": {
        "id": "X4bx0i5x3qfQ"
      }
    },
    {
      "cell_type": "code",
      "source": [
        "def greet(name):\n",
        "  print(f\"Hello, {name}\")\n"
      ],
      "metadata": {
        "id": "d-Pw8Z8M4Nvb"
      },
      "execution_count": null,
      "outputs": []
    },
    {
      "cell_type": "markdown",
      "source": [
        "Method :\n",
        "A function that belongs to an object or a class. It is called on an instance of that object or the class itself."
      ],
      "metadata": {
        "id": "FWwPQB3O4035"
      }
    },
    {
      "cell_type": "code",
      "source": [
        "my_list = [1,2,3]\n",
        "my_list.append(4)"
      ],
      "metadata": {
        "id": "M7zG6jIL5Vt-"
      },
      "execution_count": null,
      "outputs": []
    },
    {
      "cell_type": "markdown",
      "source": [
        "# Q.2. Explain the concept of function arguments and parameters in Python.\n",
        "Ans -\n"
      ],
      "metadata": {
        "id": "R-T_eeiM6A3R"
      }
    },
    {
      "cell_type": "markdown",
      "source": [
        "    Parameters:\n",
        "\n",
        "The names listed in the function definition. They are placeholders for the values that will be passed into the function.\n",
        "\n",
        "    Arguments:\n",
        "\n",
        "The actual values passed to the function when it is called.\n",
        "\n",
        "Example:"
      ],
      "metadata": {
        "id": "wjhg2C9_6bdC"
      }
    },
    {
      "cell_type": "code",
      "source": [
        "def add(a,b):\n",
        "  return a+b    # a,b are parameters\n",
        "  add(5,3)      # 5,3 are arguments"
      ],
      "metadata": {
        "id": "X4N66xdj5h6J"
      },
      "execution_count": null,
      "outputs": []
    },
    {
      "cell_type": "markdown",
      "source": [
        "# Q.3. What are the different ways to define and call a function in Python?\n",
        "Ans - Define:\n",
        "Use the def keyword followed by the function name, parameters in parentheses, and a colon. The function body is indented.\n",
        "\n",
        "Example :"
      ],
      "metadata": {
        "id": "is92NQgv7pFw"
      }
    },
    {
      "cell_type": "code",
      "source": [
        "def calculate_area(length, width):\n",
        "  return length*width"
      ],
      "metadata": {
        "id": "n2b6_NpO68G0"
      },
      "execution_count": null,
      "outputs": []
    },
    {
      "cell_type": "markdown",
      "source": [
        "Call:\n",
        "Use the function name followed by arguments in parentheses.\n",
        "\n",
        "Example:"
      ],
      "metadata": {
        "id": "M6lAJ9W184k_"
      }
    },
    {
      "cell_type": "code",
      "source": [
        "area = calculate_area(10,5)"
      ],
      "metadata": {
        "id": "PfrinZk98gNT"
      },
      "execution_count": null,
      "outputs": []
    },
    {
      "cell_type": "markdown",
      "source": [
        "# Q.4. What is the purpose of the `return` statement in a Python function?\n",
        "Ans - The return statement is used to exit a function and send a value back to the caller. If no return statement is present or return is used without an argument, the function implicitly returns None.\n",
        "\n",
        "Example:"
      ],
      "metadata": {
        "id": "1tJLVc5S9GKt"
      }
    },
    {
      "cell_type": "code",
      "source": [
        "def multiply(x,y):\n",
        "  return x*y"
      ],
      "metadata": {
        "id": "vWNMHNnD8-iZ"
      },
      "execution_count": null,
      "outputs": []
    },
    {
      "cell_type": "markdown",
      "source": [
        "# Q. 5. What are iterators in Python and how do they differ from iterables?\n",
        "Ans -\n",
        "\n",
        "    Iterable:\n",
        "\n",
        "An object capable of returning an iterator. It's something you can loop over (e.g., lists, tuples, strings). An iterable has an __iter__() method that returns an iterator.\n",
        "\n",
        "    Iterator:\n",
        "\n",
        "An object that represents a stream of data. It provides a __next__() method that returns the next item in the sequence. When there are no more items, it raises StopIteration.\n",
        "\n",
        "Example:"
      ],
      "metadata": {
        "id": "4intTGhC9qu_"
      }
    },
    {
      "cell_type": "code",
      "source": [
        "my_list = [1,2,3]\n",
        "my_iterator = iter(my_list)\n",
        "next(my_iterator)"
      ],
      "metadata": {
        "colab": {
          "base_uri": "https://localhost:8080/"
        },
        "id": "EHrXAigG9a5J",
        "outputId": "9cda0760-311c-4cc4-e366-2a1a312af049"
      },
      "execution_count": null,
      "outputs": [
        {
          "output_type": "execute_result",
          "data": {
            "text/plain": [
              "1"
            ]
          },
          "metadata": {},
          "execution_count": 11
        }
      ]
    },
    {
      "cell_type": "markdown",
      "source": [
        "# Q. 6. Explain the concept of generators in Python and how they are defined.\n",
        "Ans -\n",
        "\n",
        "    Generators:\n",
        "\n",
        "Functions that return an iterator that produces a sequence of results one at a time using the yield keyword instead of return. They are memory-efficient as they don't store the entire sequence in memory.\n",
        "\n",
        "Defined:\n",
        "\n",
        "By defining a function that contains one or more yield statements.\n",
        "\n",
        "Example:\n"
      ],
      "metadata": {
        "id": "BK8ZIqaN-w3V"
      }
    },
    {
      "cell_type": "code",
      "source": [
        "def count_up_to(max):\n",
        "    count = 1\n",
        "    while count <= max:\n",
        "        yield count\n",
        "        count += 1"
      ],
      "metadata": {
        "id": "c_Iq1WDn-VDQ"
      },
      "execution_count": null,
      "outputs": []
    },
    {
      "cell_type": "markdown",
      "source": [
        "# Q. 7. What are the advantages of using generators over regular functions?\n",
        "Ans -\n",
        "\n",
        "    Memory Efficiency:\n",
        "\n",
        "Generators produce items on demand, making them suitable for large datasets where storing all elements in memory would be inefficient or impossible.\n",
        "\n",
        "    Lazy Evaluation:\n",
        "\n",
        "They compute values only when requested, which can improve performance in certain scenarios.\n",
        "\n",
        "    Infinite Sequences:\n",
        "    \n",
        "Can represent infinite sequences of data, as they don't need to generate all values upfront."
      ],
      "metadata": {
        "id": "YX0FkHmXANhO"
      }
    },
    {
      "cell_type": "markdown",
      "source": [
        "# Q. 8. What is a lambda function in Python and when is it typically used?\n",
        "Ans -\n",
        "\n",
        "    Lambda Function (Anonymous Function):\n",
        "\n",
        "A small, anonymous function defined with the lambda keyword. It can take any number of arguments but can only have one expression.\n",
        "\n",
        "Typically Used:\n",
        "\n",
        "For short, simple operations where a full def function is overkill, often as arguments to higher-order functions like map(), filter(), sorted(), etc.\n",
        "\n",
        "Example:\n"
      ],
      "metadata": {
        "id": "kufWqpVwAsf8"
      }
    },
    {
      "cell_type": "code",
      "source": [
        "add_one = lambda x:x+1\n",
        "add_one(5)\n"
      ],
      "metadata": {
        "colab": {
          "base_uri": "https://localhost:8080/"
        },
        "id": "XuQ3Ul2TBHOm",
        "outputId": "2006c44e-4160-4342-a080-dde152b779fb"
      },
      "execution_count": null,
      "outputs": [
        {
          "output_type": "execute_result",
          "data": {
            "text/plain": [
              "6"
            ]
          },
          "metadata": {},
          "execution_count": 13
        }
      ]
    },
    {
      "cell_type": "markdown",
      "source": [
        "# Q. 9. Explain the purpose and usage of the `map()` function in Python.\n",
        "Ans -\n",
        "\n",
        "    Purpose:\n",
        "\n",
        "Applies a given function to each item of an iterable (or multiple iterables) and returns an iterator that yields the results.\n",
        "\n",
        "    Usage:\n",
        "\n",
        "map(function, iterable, ...)\n",
        "\n",
        "Example:"
      ],
      "metadata": {
        "id": "LbZH7yXRB4x4"
      }
    },
    {
      "cell_type": "code",
      "source": [
        "numbers = [1, 2, 3];\n",
        "squared_numbers = list(map(lambda x: x*x, numbers))\n",
        "print (squared_numbers)"
      ],
      "metadata": {
        "colab": {
          "base_uri": "https://localhost:8080/"
        },
        "id": "JFhVGBO7BygJ",
        "outputId": "bdd97f42-7f8c-485a-a717-497267b57a68"
      },
      "execution_count": null,
      "outputs": [
        {
          "output_type": "stream",
          "name": "stdout",
          "text": [
            "[1, 4, 9]\n"
          ]
        }
      ]
    },
    {
      "cell_type": "markdown",
      "source": [
        "# Q.10. What is the difference between `map()`, `reduce()`, and `filter()` functions in Python?\n",
        "Ans -\n",
        "\n",
        "    map():\n",
        "\n",
        "Applies a function to each item in an iterable, transforming the items. Returns an iterator of the transformed items.\n",
        "\n",
        "    reduce() (from functools module):\n",
        "    \n",
        "Applies a function of two arguments cumulatively to the items of a sequence, reducing the sequence to a single value.\n",
        "\n",
        "    filter():\n",
        "\n",
        "Constructs an iterator from elements of an iterable for which a function returns true. Returns an iterator of filtered items.\n",
        "\n",
        "example 1.(reduce)\n",
        "\n",
        "example 2.(filter)\n"
      ],
      "metadata": {
        "id": "38kv1ZcGDVzw"
      }
    },
    {
      "cell_type": "code",
      "source": [
        "from functools import reduce\n",
        "total = reduce(lambda x, y: x + y, [1, 2, 3, 4])\n",
        "print(total)"
      ],
      "metadata": {
        "colab": {
          "base_uri": "https://localhost:8080/"
        },
        "id": "vslg39feCtFX",
        "outputId": "5c858922-8945-4fdb-843d-739332c25e6e"
      },
      "execution_count": null,
      "outputs": [
        {
          "output_type": "stream",
          "name": "stdout",
          "text": [
            "10\n"
          ]
        }
      ]
    },
    {
      "cell_type": "code",
      "source": [
        "evens = list(filter(lambda x: x % 2 == 0, [1, 2, 3, 4]))\n",
        "print(evens)"
      ],
      "metadata": {
        "colab": {
          "base_uri": "https://localhost:8080/"
        },
        "id": "2llreJepEwDo",
        "outputId": "c5109e84-85d1-402d-e4dd-e57afb97ac28"
      },
      "execution_count": null,
      "outputs": [
        {
          "output_type": "stream",
          "name": "stdout",
          "text": [
            "[2, 4]\n"
          ]
        }
      ]
    },
    {
      "cell_type": "markdown",
      "source": [
        "Q. 11. Using pen & Paper write the internal mechanism for sum operation using  reduce function on this given list:[47,11,42,13];\n",
        "\n"
      ],
      "metadata": {
        "id": "7iBLqsTnGhkV"
      }
    },
    {
      "cell_type": "markdown",
      "source": [
        "![WhatsApp Image 2025-07-30 at 4.45.30 PM.jpeg](data:image/jpeg;base64,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)"
      ],
      "metadata": {
        "id": "Uj2ilLNMEQB_"
      }
    },
    {
      "cell_type": "code",
      "source": [
        "from functools import reduce\n",
        "\n",
        "numbers = [47, 11, 42, 13]\n",
        "sum_result = reduce(lambda x, y: x + y, numbers)\n",
        "print(sum_result)"
      ],
      "metadata": {
        "colab": {
          "base_uri": "https://localhost:8080/"
        },
        "id": "qD7sWi2NEcF0",
        "outputId": "189db067-b0b9-4828-b547-45202477a0fb"
      },
      "execution_count": 1,
      "outputs": [
        {
          "output_type": "stream",
          "name": "stdout",
          "text": [
            "113\n"
          ]
        }
      ]
    },
    {
      "cell_type": "markdown",
      "source": [
        "# Practical"
      ],
      "metadata": {
        "id": "MJI8FcKRg2XT"
      }
    },
    {
      "cell_type": "markdown",
      "source": [
        "Q 1. Write a Python function that takes a list of numbers as input and returns the sum of all even numbers in the list.\n",
        "\n"
      ],
      "metadata": {
        "id": "3P048Kalg9SE"
      }
    },
    {
      "cell_type": "code",
      "source": [
        "def sum_even_numbers(numbers):\n",
        "    even_sum = 0\n",
        "    for num in numbers:\n",
        "        if num % 2 == 0:    # check if the number is even\n",
        "            even_sum += num  # Add even numbers to the total\n",
        "    return even_sum   # Return the calculated sum"
      ],
      "metadata": {
        "id": "P6wA45u8hJXZ"
      },
      "execution_count": null,
      "outputs": []
    },
    {
      "cell_type": "markdown",
      "source": [
        "Q. 2. Create a Python function that accepts a string and returns the reverse of that string.\n"
      ],
      "metadata": {
        "id": "0YQUeeYKzo04"
      }
    },
    {
      "cell_type": "code",
      "source": [
        "def reverse_string(input_string):\n",
        "    return input_string[::-1]  # Use slicing to reverse the string efficiently\n",
        "print(reverse_string(\"Python\"))"
      ],
      "metadata": {
        "colab": {
          "base_uri": "https://localhost:8080/"
        },
        "id": "EEesOeTjzfkm",
        "outputId": "82995314-b448-4549-c6e9-c1508377f7af"
      },
      "execution_count": null,
      "outputs": [
        {
          "output_type": "stream",
          "name": "stdout",
          "text": [
            "nohtyP\n"
          ]
        }
      ]
    },
    {
      "cell_type": "markdown",
      "source": [
        "Q.3. Implement a Python function that takes a list of integers and returns a new list containing the squares of each number."
      ],
      "metadata": {
        "id": "I36GE1cg3NSg"
      }
    },
    {
      "cell_type": "code",
      "source": [
        "def square_numbers(numbers):\n",
        "    squared_numbers = [num ** 2 for num in numbers]\n",
        "    return squared_numbers\n",
        "print(square_numbers([1,2,3,4,5]))    # Use a list comprehension for concise squaring\n",
        "    return squared_list"
      ],
      "metadata": {
        "colab": {
          "base_uri": "https://localhost:8080/"
        },
        "id": "qxYZWtLe6Aof",
        "outputId": "c36a1b12-b73a-4f0b-feb2-3dcc205532f1"
      },
      "execution_count": null,
      "outputs": [
        {
          "output_type": "stream",
          "name": "stdout",
          "text": [
            "[1, 4, 9, 16, 25]\n"
          ]
        }
      ]
    },
    {
      "cell_type": "markdown",
      "source": [
        "# Q. 4. Write a Python function that checks if a given number is prime or not from 1 to 200.\n"
      ],
      "metadata": {
        "id": "i4ikfQMsvnXY"
      }
    },
    {
      "cell_type": "code",
      "source": [
        "def is_prime(n):\n",
        "    if n < 2:\n",
        "        return False\n",
        "    for i in range(2, int(n**0.5) + 1):\n",
        "        if n % i == 0:\n",
        "            return False\n",
        "    return True    # If no divisors are found, the number is prime\n",
        "    for n in range(1, 201):\n",
        "      if is_prime(n):\n",
        "        print(f\"{n} is a prime number\")\n",
        "print(is_prime(11))"
      ],
      "metadata": {
        "colab": {
          "base_uri": "https://localhost:8080/"
        },
        "id": "VwVrjZGH6Hk0",
        "outputId": "4a83b23c-bcc4-48b0-80c9-20b226744b84"
      },
      "execution_count": null,
      "outputs": [
        {
          "output_type": "stream",
          "name": "stdout",
          "text": [
            "True\n"
          ]
        }
      ]
    },
    {
      "cell_type": "markdown",
      "source": [
        "# Q.5. Create an iterator class in Python that generates the Fibonacci sequence up to a specified number of terms.\n",
        "\n"
      ],
      "metadata": {
        "id": "5ovch10jzr2n"
      }
    },
    {
      "cell_type": "code",
      "source": [
        "class FibonacciIterator:\n",
        "    def __init__(self, num_terms):\n",
        "        self.num_terms = num_terms\n",
        "        self.count = 0\n",
        "        self.a = 0\n",
        "        self.b = 1\n",
        "\n",
        "    def __iter__(self):\n",
        "        return self\n",
        "\n",
        "    def __next__(self):\n",
        "        if self.count >= self.num_terms:\n",
        "            raise StopIteration\n",
        "        if self.count == 0:\n",
        "            self.count += 1\n",
        "            return self.a\n",
        "        elif self.count == 1:\n",
        "            self.count += 1  # Increment the counter\n",
        "            return self.b\n",
        "        else:\n",
        "            self.count += 1\n",
        "            self.a, self.b = self.b, self.a + self.b\n",
        "            return self.b\n",
        "\n",
        "#Example usage:\n",
        "fib = FibonacciIterator(10)\n",
        "for num in fib:\n",
        "    print(num)\n"
      ],
      "metadata": {
        "colab": {
          "base_uri": "https://localhost:8080/"
        },
        "id": "CzuH_KJwyg7c",
        "outputId": "e3bdeffe-b78b-491a-b805-f7a383972cba"
      },
      "execution_count": null,
      "outputs": [
        {
          "output_type": "stream",
          "name": "stdout",
          "text": [
            "0\n",
            "1\n",
            "1\n",
            "2\n",
            "3\n",
            "5\n",
            "8\n",
            "13\n",
            "21\n",
            "34\n"
          ]
        }
      ]
    },
    {
      "cell_type": "markdown",
      "source": [
        "# Q. 6. Write a generator function in Python that yields the powers of 2 up to a given exponent.\n",
        "\n",
        "\n"
      ],
      "metadata": {
        "id": "D7mPLOsm8WqL"
      }
    },
    {
      "cell_type": "code",
      "source": [
        "def powers_of_two(max_exponent):\n",
        "    for exp in range(max_exponent + 1):   # Iterate from 0 up to the given exponent\n",
        "        yield 2 ** exp\n",
        "        for power in powers_of_two(5):\n",
        "    print(power)"
      ],
      "metadata": {
        "colab": {
          "base_uri": "https://localhost:8080/"
        },
        "id": "TgZNN-Hh4PpO",
        "outputId": "66172aa2-c02a-4254-e077-ff1e253dad82"
      },
      "execution_count": null,
      "outputs": [
        {
          "output_type": "stream",
          "name": "stdout",
          "text": [
            "1\n",
            "2\n",
            "4\n",
            "8\n",
            "16\n",
            "32\n"
          ]
        }
      ]
    },
    {
      "cell_type": "markdown",
      "source": [
        "# Q. 7. Implement a generator function that reads a file line by line and yields each line as a string.\n"
      ],
      "metadata": {
        "id": "1Dorn3w39dB3"
      }
    },
    {
      "cell_type": "code",
      "source": [
        "def read_file_lines(filename):\n",
        "    with open(filename, 'r') as file: # Open the file in read mode\n",
        "        for line in file:   # Iterate through each line in the file\n",
        "            yield line.strip()  # Remove newline characters if needed\n",
        "            for line in read_file_lines('example.txt'):\n",
        "             print(lines)"
      ],
      "metadata": {
        "id": "jHBo_quo9Jv_"
      },
      "execution_count": null,
      "outputs": []
    },
    {
      "cell_type": "markdown",
      "source": [
        "# Q. 8. Use a lambda function in Python to sort a list of tuples based on the second element of each tuple.\n"
      ],
      "metadata": {
        "id": "--pIxVipAghF"
      }
    },
    {
      "cell_type": "code",
      "source": [
        "data = [(3, 4), (1, 2), (5, 1), (4, 3)]\n",
        "\n",
        "# Sort the list of tuples based on the second element using a lambda function\n",
        "sorted_data = sorted(data, key=lambda x: x[1])\n",
        "\n",
        "print(sorted_data)\n"
      ],
      "metadata": {
        "colab": {
          "base_uri": "https://localhost:8080/"
        },
        "id": "j6QnI_P4-sHW",
        "outputId": "eb85615e-930c-4751-db88-e97aa513aa59"
      },
      "execution_count": null,
      "outputs": [
        {
          "output_type": "stream",
          "name": "stdout",
          "text": [
            "[(5, 1), (1, 2), (4, 3), (3, 4)]\n"
          ]
        }
      ]
    },
    {
      "cell_type": "markdown",
      "source": [
        "# Q.9.Write a Python program that uses `map()` to convert a list of temperatures from Celsius to Fahrenheit."
      ],
      "metadata": {
        "id": "-XMUidZrDfy2"
      }
    },
    {
      "cell_type": "code",
      "source": [
        "celsius_temperatures = [0, 25, 100]\n",
        "\n",
        "# Use map() to apply the conversion function to each element in the list\n",
        "\n",
        "fahrenheit_temperatures = list(map(lambda c: (c * 9/5) + 32, celsius_temperatures))\n",
        "print(fahrenheit_temperatures)"
      ],
      "metadata": {
        "colab": {
          "base_uri": "https://localhost:8080/"
        },
        "id": "A4jdlqP4A16i",
        "outputId": "69e4c161-fb23-4458-8730-389cac1564da"
      },
      "execution_count": null,
      "outputs": [
        {
          "output_type": "stream",
          "name": "stdout",
          "text": [
            "[32.0, 77.0, 212.0]\n"
          ]
        }
      ]
    },
    {
      "cell_type": "markdown",
      "source": [
        "# Q. 10.Create a Python program that uses `filter()` to remove all the vowels from a given string."
      ],
      "metadata": {
        "id": "qRj2N78JEafK"
      }
    },
    {
      "cell_type": "code",
      "source": [
        "my_string = \"Hello World\"\n",
        "vowels = ['a', 'e', 'i', 'o', 'u']\n",
        "\n",
        "# Use filter() to keep only non-vowel characters\n",
        "\n",
        "filtered_string = ''.join(filter(lambda x: x.lower() not in vowels, my_string))\n",
        "print(filtered_string)"
      ],
      "metadata": {
        "colab": {
          "base_uri": "https://localhost:8080/"
        },
        "id": "QKpinPCkEB6J",
        "outputId": "b26a2c78-5323-4c96-a763-3b5f84a7b11c"
      },
      "execution_count": null,
      "outputs": [
        {
          "output_type": "stream",
          "name": "stdout",
          "text": [
            "Hll Wrld\n"
          ]
        }
      ]
    },
    {
      "cell_type": "markdown",
      "source": [
        "Q.  11\n",
        "\n",
        "Ans\n"
      ],
      "metadata": {
        "id": "rFl2MwjbFdNj"
      }
    },
    {
      "cell_type": "code",
      "source": [
        "part 1\n",
        "\n",
        "orders = [\n",
        "    [1, 45.0, 2],    # Order 1: €45.0 per item × 2\n",
        "    [2, 25.0, 1],    # Order 2: €25.0 per item × 1\n",
        "    [3, 75.0, 2],    # Order 3: €75.0 per item × 2\n",
        "    [4, 99.0, 1]     # Order 4: €99.0 per item × 1\n",
        "]\n",
        "\n",
        "orders = [\n",
        "    [1, 45.0, 2],\n",
        "    [2, 25.0, 1],\n",
        "    [3, 75.0, 2],\n",
        "    [4, 99.0, 1]\n",
        "]\n",
        "\n",
        "result = list(map(\n",
        "    lambda order: (order[0], order[1] * order[2] + (10 if order[1] * order[2] < 100 else 0)),\n",
        "    orders\n",
        "))\n",
        "\n",
        "print(result)"
      ],
      "metadata": {
        "colab": {
          "base_uri": "https://localhost:8080/"
        },
        "id": "CS4WI_I4G7FO",
        "outputId": "f108ac15-4c0e-4a2f-908f-13c1aac43963"
      },
      "execution_count": null,
      "outputs": [
        {
          "output_type": "stream",
          "name": "stdout",
          "text": [
            "[(1, 100.0), (2, 35.0), (3, 150.0), (4, 109.0)]\n"
          ]
        }
      ]
    },
    {
      "cell_type": "code",
      "source": [
        "part 2\n",
        "\n",
        "orders = [\n",
        "    [34587, \"Learning Python, Mark Lutz\", 4, 40.95],\n",
        "    [98762, \"Programming Python, Mark Lutz\", 5, 56.80],\n",
        "    [77226, \"Head First Python, Paul Barry\", 3, 32.95],\n",
        "    [88112, \"Einführung in Python3, Bernd Klein\", 3, 24.99]\n",
        "]\n",
        "\n",
        "# Using map and lambda to calculate order totals\n",
        "order_totals_map_lambda = list(map(lambda order: (order[0], (order[2] * order[3] + 10.00) if (order[2] * order[3]) < 100.00 else (order[2] * order[3])), orders))\n",
        "print(order_totals_map_lambda)\n"
      ],
      "metadata": {
        "colab": {
          "base_uri": "https://localhost:8080/"
        },
        "id": "xwBiBnm7ISzO",
        "outputId": "93260804-4458-413f-8f56-807584ffaebf"
      },
      "execution_count": null,
      "outputs": [
        {
          "output_type": "stream",
          "name": "stdout",
          "text": [
            "[(34587, 163.8), (98762, 284.0), (77226, 108.85000000000001), (88112, 84.97)]\n"
          ]
        }
      ]
    },
    {
      "cell_type": "code",
      "source": [],
      "metadata": {
        "id": "XwXZ2KFbJX00"
      },
      "execution_count": null,
      "outputs": []
    }
  ]
}